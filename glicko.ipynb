{
 "cells": [
  {
   "cell_type": "code",
   "execution_count": 18,
   "metadata": {
    "collapsed": true
   },
   "outputs": [],
   "source": [
    "#\n",
    "# Inspired by https://www.kaggle.com/lpkirwin/fivethirtyeight-elo-ratings\n",
    "#\n",
    "\n",
    "import numpy as np \n",
    "import pandas as pd \n",
    "import matplotlib.pyplot as plt\n",
    "\n",
    "df = pd.read_csv('./data/RegularSeasonCompactResults.csv')\n",
    "year = 2017"
   ]
  },
  {
   "cell_type": "code",
   "execution_count": 19,
   "metadata": {},
   "outputs": [],
   "source": [
    "df_sp = df.loc[df['Season'] == year]"
   ]
  },
  {
   "cell_type": "code",
   "execution_count": 20,
   "metadata": {},
   "outputs": [
    {
     "data": {
      "text/plain": [
       "351"
      ]
     },
     "execution_count": 20,
     "metadata": {},
     "output_type": "execute_result"
    }
   ],
   "source": [
    "team_ids = set(df_sp.WTeamID).union(set(df_sp.LTeamID))\n",
    "len(team_ids)"
   ]
  },
  {
   "cell_type": "code",
   "execution_count": 21,
   "metadata": {
    "collapsed": true
   },
   "outputs": [],
   "source": [
    "from glicko2 import Player"
   ]
  },
  {
   "cell_type": "code",
   "execution_count": 22,
   "metadata": {
    "collapsed": true
   },
   "outputs": [],
   "source": [
    "def glicko_rounds(glicko, preds, df):\n",
    "    for row in df_sp.itertuples():\n",
    "        w = row.WTeamID\n",
    "        l = row.LTeamID\n",
    "\n",
    "        w_rating, l_rating = glicko[w].getRating(), glicko[l].getRating()\n",
    "        w_rd, l_rd = glicko[w].getRd(), glicko[l].getRd()\n",
    "\n",
    "        #\n",
    "        # We are predicting if the team with the lower ID wins.\n",
    "        # Glicko would predict the lower ID team to win if their glicko score was higher. \n",
    "        #\n",
    "        if w_rating > l_rating:\n",
    "            preds.append(1.)\n",
    "        else:\n",
    "            preds.append(0.)\n",
    "\n",
    "        glicko[w].update_player([l_rating], [l_rd], [1])\n",
    "        glicko[l].update_player([w_rating], [w_rd], [0])"
   ]
  },
  {
   "cell_type": "code",
   "execution_count": 23,
   "metadata": {},
   "outputs": [
    {
     "data": {
      "text/plain": [
       "0.6646895273401298"
      ]
     },
     "execution_count": 23,
     "metadata": {},
     "output_type": "execute_result"
    }
   ],
   "source": [
    "glicko = dict(zip(list(team_ids), [Player() for _ in range(len(team_ids))]))\n",
    "preds = []\n",
    "glicko_rounds(glicko, preds, df_sp)\n",
    "sum(preds) / len(preds)  # Prediction accuracy of Glicko2 in regular season. "
   ]
  },
  {
   "cell_type": "code",
   "execution_count": 24,
   "metadata": {},
   "outputs": [
    {
     "data": {
      "text/plain": [
       "0.8129251700680272"
      ]
     },
     "execution_count": 24,
     "metadata": {},
     "output_type": "execute_result"
    }
   ],
   "source": [
    "preds = []\n",
    "df = pd.read_csv('./data/ConferenceTourneyGames.csv')\n",
    "df_sp = df.loc[df['Season'] == year]\n",
    "glicko_rounds(glicko, preds, df_sp)\n",
    "sum(preds) / len(preds)  # Accuracy of Glicko2 in Conference tourney, conditioned on regular season."
   ]
  },
  {
   "cell_type": "code",
   "execution_count": 25,
   "metadata": {},
   "outputs": [
    {
     "data": {
      "text/plain": [
       "0.6417910447761194"
      ]
     },
     "execution_count": 25,
     "metadata": {},
     "output_type": "execute_result"
    }
   ],
   "source": [
    "preds = []\n",
    "df = pd.read_csv('./data/NCAATourneyCompactResults.csv')\n",
    "df_sp = df.loc[df['Season'] == year]\n",
    "glicko_rounds(glicko, preds, df_sp)\n",
    "sum(preds) / len(preds)  # Accuracy of Glicko2 in NCAA tourney, conditioned on regular season and conf. tourney. "
   ]
  }
 ],
 "metadata": {
  "kernelspec": {
   "display_name": "Python 3",
   "language": "python",
   "name": "python3"
  },
  "language_info": {
   "codemirror_mode": {
    "name": "ipython",
    "version": 2
   },
   "file_extension": ".py",
   "mimetype": "text/x-python",
   "name": "python",
   "nbconvert_exporter": "python",
   "pygments_lexer": "ipython2",
   "version": "2.7.12"
  }
 },
 "nbformat": 4,
 "nbformat_minor": 2
}
