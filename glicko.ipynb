{
 "cells": [
  {
   "cell_type": "code",
   "execution_count": 28,
   "metadata": {
    "collapsed": true
   },
   "outputs": [],
   "source": [
    "#\n",
    "# Inspired by https://www.kaggle.com/lpkirwin/fivethirtyeight-elo-ratings\n",
    "#\n",
    "\n",
    "import numpy as np \n",
    "import pandas as pd \n",
    "import matplotlib.pyplot as plt\n",
    "\n",
    "df = pd.read_csv('./data/RegularSeasonCompactResults.csv')"
   ]
  },
  {
   "cell_type": "code",
   "execution_count": 29,
   "metadata": {
    "collapsed": true
   },
   "outputs": [],
   "source": [
    "df2017 = df.loc[df['Season'] == 2017]"
   ]
  },
  {
   "cell_type": "code",
   "execution_count": 30,
   "metadata": {},
   "outputs": [
    {
     "data": {
      "text/plain": [
       "351"
      ]
     },
     "execution_count": 30,
     "metadata": {},
     "output_type": "execute_result"
    }
   ],
   "source": [
    "team_ids = set(df2017.WTeamID).union(set(df2017.LTeamID))\n",
    "len(team_ids)"
   ]
  },
  {
   "cell_type": "code",
   "execution_count": 31,
   "metadata": {
    "collapsed": true
   },
   "outputs": [],
   "source": [
    "from glicko2 import Player"
   ]
  },
  {
   "cell_type": "code",
   "execution_count": 32,
   "metadata": {
    "collapsed": true
   },
   "outputs": [],
   "source": [
    "def glicko_rounds(glicko, preds, df):\n",
    "    for row in df2017.itertuples():\n",
    "        w = row.WTeamID\n",
    "        l = row.LTeamID\n",
    "\n",
    "        w_rating, l_rating = glicko[w].getRating(), glicko[l].getRating()\n",
    "        w_rd, l_rd = glicko[w].getRd(), glicko[l].getRd()\n",
    "\n",
    "        #\n",
    "        # We are predicting if the team with the lower ID wins.\n",
    "        # Glicko would predict the lower ID team to win if their glicko score was higher. \n",
    "        #\n",
    "        if w_rating > l_rating:\n",
    "            preds.append(1.)\n",
    "        else:\n",
    "            preds.append(0.)\n",
    "\n",
    "        glicko[w].update_player([l_rating], [l_rd], [1])\n",
    "        glicko[l].update_player([w_rating], [w_rd], [0])"
   ]
  },
  {
   "cell_type": "code",
   "execution_count": 33,
   "metadata": {},
   "outputs": [
    {
     "data": {
      "text/plain": [
       "0.6646895273401298"
      ]
     },
     "execution_count": 33,
     "metadata": {},
     "output_type": "execute_result"
    }
   ],
   "source": [
    "glicko = dict(zip(list(team_ids), [Player() for _ in range(len(team_ids))]))\n",
    "preds = []\n",
    "glicko_rounds(glicko, preds, df2017)\n",
    "sum(preds) / len(preds)  # Prediction accuracy of Glicko2 in regular season. "
   ]
  },
  {
   "cell_type": "code",
   "execution_count": 34,
   "metadata": {},
   "outputs": [
    {
     "data": {
      "text/plain": [
       "0.8129251700680272"
      ]
     },
     "execution_count": 34,
     "metadata": {},
     "output_type": "execute_result"
    }
   ],
   "source": [
    "preds = []\n",
    "df = pd.read_csv('./data/ConferenceTourneyGames.csv')\n",
    "df2017 = df.loc[df['Season'] == 2017]\n",
    "glicko_rounds(glicko, preds, df2017)\n",
    "sum(preds) / len(preds)  # Accuracy of Glicko2 in Conference tourney, conditioned on regular season."
   ]
  },
  {
   "cell_type": "code",
   "execution_count": 35,
   "metadata": {},
   "outputs": [
    {
     "data": {
      "text/plain": [
       "0.6417910447761194"
      ]
     },
     "execution_count": 35,
     "metadata": {},
     "output_type": "execute_result"
    }
   ],
   "source": [
    "preds = []\n",
    "df = pd.read_csv('./data/NCAATourneyCompactResults.csv')\n",
    "df2017 = df.loc[df['Season'] == 2017]\n",
    "glicko_rounds(glicko, preds, df2017)\n",
    "sum(preds) / len(preds)  # Accuracy of Glicko2 in NCAA tourney, conditioned on regular season and conf. tourney. "
   ]
  },
  {
   "cell_type": "code",
   "execution_count": null,
   "metadata": {
    "collapsed": true
   },
   "outputs": [],
   "source": []
  }
 ],
 "metadata": {
  "kernelspec": {
   "display_name": "Python 3",
   "language": "python",
   "name": "python3"
  },
  "language_info": {
   "codemirror_mode": {
    "name": "ipython",
    "version": 2
   },
   "file_extension": ".py",
   "mimetype": "text/x-python",
   "name": "python",
   "nbconvert_exporter": "python",
   "pygments_lexer": "ipython2",
   "version": "2.7.12"
  }
 },
 "nbformat": 4,
 "nbformat_minor": 2
}
